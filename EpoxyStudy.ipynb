{
  "nbformat": 4,
  "nbformat_minor": 0,
  "metadata": {
    "colab": {
      "provenance": [],
      "authorship_tag": "ABX9TyO1EFmLn+5avcYr/6lsat7c",
      "include_colab_link": true
    },
    "kernelspec": {
      "name": "python3",
      "display_name": "Python 3"
    },
    "language_info": {
      "name": "python"
    }
  },
  "cells": [
    {
      "cell_type": "markdown",
      "metadata": {
        "id": "view-in-github",
        "colab_type": "text"
      },
      "source": [
        "<a href=\"https://colab.research.google.com/github/snr-laboratory/snrlab-microfab-trial0/blob/main/EpoxyStudy.ipynb\" target=\"_parent\"><img src=\"https://colab.research.google.com/assets/colab-badge.svg\" alt=\"Open In Colab\"/></a>"
      ]
    },
    {
      "cell_type": "markdown",
      "source": [
        "# Epoxy Resistivity Data\n",
        "The data below comprises of 7 different epoxy candidates for integration in fusing an ASIC substrate to pervoskite single crystal. Resistivity is the first critical point of focus as it relates directly to device performance. Secondly, the selected candidate will need to undergo a series of spin coating experiments in hopes of developing a method to control the thickness of the epoxy. The viscosity of the epoxy is an important factor, but not as serious as the electrical behavior of the epoxy. Plots below show the measured resistivity and include the forward and reverse sweep for positve and negative 25, 50, 100, 150 and 200 volts.\n",
        "\n",
        "All measurments were set to source voltage and measure current. The measurement range was fixed to 10nA witha voltage range set to 200V along with a limit set to 10.5nA. The script and manual measurements differed in the time intervals in which the observed current was recorded. Script measurements were taken after 15 minutes while most of the manual data was recorded after 3 minutes.  \n",
        "\n",
        "## Resistivity vs Voltage (Script) Plot\n",
        "Plot showing the resistivity for possible candidates using python script.\n",
        "\n",
        "<img src=\"https://drive.google.com/uc?id=1HJo_YTWIGRPX_D7kSyndrkjIl0U7ola8\" width=\"700\">\n",
        "\n",
        "- EPO-TEK 301: Highest measured resistivity: 9.4E+15 Ω·cm and lowest measured current across all voltages (best insulator).\n",
        "- JB Weld: Very low resistivity: 9.2E+11 Ω·cm (poorest insulator)\n",
        "- MG Chemicals 832HD: Measured resistivity matches very well with actual resistivity\n",
        "- EPO-TEK 353ND: 2nd best measured resistivity within actual resistivity range\n",
        "- Gorilla Glue script and manual measurements match very well.\n",
        "Range of resistivity: E+11-E+15 Ω·cm\n",
        "\n",
        "---\n",
        "\n",
        "<img src=\"https://drive.google.com/uc?id=1N48spnLUaQhL9lUWuTYp1uhdRX0RiDbC\" width=\"700\">\n",
        "\n",
        "\n",
        "---\n",
        "\n",
        "## Resistivity vs Voltage (Manual) Plot\n",
        "Plot showing the resistivity for possible candidates using manual data collection as well as mostly no degassing and different time intervals (ie wait time for stable measurement).\n",
        "\n",
        "<img src=\"https://drive.google.com/uc?id=1jzSw_8CMXe64PGcSVkcNJmudE2K0pTfh\" width=\"700\">\n",
        "\n",
        "- EPO-TEK 301: Highest measured resistivity: 2.6E+14 Ω·cm (lower than script, but still highest in this set)\n",
        "- MG Chemicals 832HD and EPO-TEK 353ND show the best resistivity matching with TDS\n",
        "- JB Weld:Very low resistivity: 9.2E+11 Ω·cm\n",
        "Range of resistivity: E+11-E+14 Ω·cm\n",
        "- Manual measurements show more scatter and slightly lower resistivity values than script data, but the ranking/order of materials is mostly consistent.\n",
        "\n",
        "---\n",
        "\n",
        "<img src=\"https://drive.google.com/uc?id=1e7ZXjDyfVauZkhHAyMIQ2sRxa-Qgpm_F\" width=\"700\">\n",
        "\n",
        "\n",
        "---\n"
      ],
      "metadata": {
        "id": "Z76dk_rJzuuF"
      }
    }
  ]
}