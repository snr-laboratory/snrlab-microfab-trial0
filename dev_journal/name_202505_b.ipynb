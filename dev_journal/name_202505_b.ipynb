{
  "cells": [
    {
      "cell_type": "markdown",
      "metadata": {
        "colab_type": "text",
        "id": "view-in-github"
      },
      "source": [
        "<a href=\"https://colab.research.google.com/github/snr-laboratory/snrlab-template-code/blob/main/dev_journal/name_202505_a.ipynb\" target=\"_parent\"><img src=\"https://colab.research.google.com/assets/colab-badge.svg\" alt=\"Open In Colab\"/></a>"
      ]
    },
    {
      "cell_type": "markdown",
      "id": "dC-ap7uFSN6i",
      "metadata": {
        "id": "dC-ap7uFSN6i"
      },
      "source": [
        "# Development journal"
      ]
    },
    {
      "cell_type": "code",
      "execution_count": null,
      "id": "c28a8770-eb90-408b-ac24-3917fcc35a6a",
      "metadata": {
        "id": "c28a8770-eb90-408b-ac24-3917fcc35a6a"
      },
      "outputs": [],
      "source": [
        "!pip install --upgrade pip\n",
        "!pip install -U kaleido\n",
        "!pip install --upgrade plotly"
      ]
    },
    {
      "cell_type": "code",
      "execution_count": null,
      "id": "14a04010578f4a4cbe8c5bc146a028d1",
      "metadata": {
        "id": "14a04010578f4a4cbe8c5bc146a028d1"
      },
      "outputs": [],
      "source": [
        "import plotly.io as pio\n",
        "#pio.renderers.default = \"colab\"\n",
        "#pio.renderers.default = \"notebook+plotly_mimetype+pdf\"\n",
        "import plotly.express as px\n",
        "import plotly.graph_objects as go\n",
        "from plotly.subplots import make_subplots\n",
        "\n",
        "from collections import namedtuple\n",
        "from scipy.optimize import curve_fit\n",
        "import numpy as np\n",
        "rng = np.random.default_rng(seed=42)\n",
        "import pandas as pd"
      ]
    },
    {
      "cell_type": "markdown",
      "id": "AcP2-vlyTDbE",
      "metadata": {
        "id": "AcP2-vlyTDbE"
      },
      "source": [
        "## Results"
      ]
    }
  ],
  "metadata": {
    "colab": {
      "include_colab_link": true,
      "provenance": []
    },
    "display_mode": "default",
    "kernel_info": {
      "name": "python3"
    },
    "kernelspec": {
      "display_name": "Python 3.9",
      "language": "python",
      "name": "python3"
    },
    "noteable": {
      "last_delta_id": "50d65116-3cf0-415b-b346-0347b521c8fd"
    },
    "nteract": {
      "version": "noteable@2.9.0"
    },
    "selected_hardware_size": "small"
  },
  "nbformat": 4,
  "nbformat_minor": 5
}
