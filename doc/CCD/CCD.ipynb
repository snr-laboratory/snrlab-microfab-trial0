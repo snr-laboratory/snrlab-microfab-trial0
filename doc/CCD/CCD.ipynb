{
  "nbformat": 4,
  "nbformat_minor": 0,
  "metadata": {
    "colab": {
      "provenance": [],
      "authorship_tag": "ABX9TyPUmQdktVGacluo/vSxr5fc",
      "include_colab_link": true
    },
    "kernelspec": {
      "name": "python3",
      "display_name": "Python 3"
    },
    "language_info": {
      "name": "python"
    }
  },
  "cells": [
    {
      "cell_type": "markdown",
      "metadata": {
        "id": "view-in-github",
        "colab_type": "text"
      },
      "source": [
        "<a href=\"https://colab.research.google.com/github/snr-laboratory/snrlab-microfab-trial0/blob/main/doc/CCD/CCD.ipynb\" target=\"_parent\"><img src=\"https://colab.research.google.com/assets/colab-badge.svg\" alt=\"Open In Colab\"/></a>"
      ]
    },
    {
      "cell_type": "code",
      "execution_count": null,
      "metadata": {
        "id": "93KNSTxoo6kY"
      },
      "outputs": [],
      "source": []
    },
    {
      "cell_type": "markdown",
      "source": [
        "# Charge Coupled Device (CCD)\n",
        "The CCD is part of a class of charge-transfer device structures widely used for image sensors. CCD image sensors are made of MOS capacitor arrays which have the functions of light-to-charge (photon-to-electron) conversion, charge integration, charge transfer, and charge-to-voltage conversion. The basis of the CCD is the dynamic storage and withdrawal of charge in a series of MOS capacitors.\n",
        "\n",
        "# Dynamic Storgage and Withdrawal of Charge\n",
        "\n",
        "<img src=\"https://drive.google.com/uc?id=1QPW2fp3UqecBrgtisokN1YT0tzB2iPIv\" width=\"300\">\n",
        "\n",
        "\n",
        "If a large positive pulse is applied to the\n",
        "MOS gate electrode, a deep potential well is first created. Before inversion\n",
        "has occurred by thermal generation, the depletion width is greater than it\n",
        "would be at equilibrium (W > Wm ; deep depletion). This transient condition is sometimes called deep depletion. If we can inject electrons into this potential well, they will be stored there.\n",
        "\n",
        "\n",
        "### **Note: a few msec after charge pairs have been generated, they will recombine if there is no electric field in the semiconductor substrate.**\n",
        "\n",
        "It would be ill advised to assume that the story is this simple. An important aspect of this device operation is understanding why the electrons do not make their way up to the Si/SiO2 surface (assuming absorption and charge generation has already occurred).\n",
        "\n",
        "<img src=\"https://drive.google.com/uc?id=1egIXzt2xgPhgMA5kKL3sNJWjl_tIrY-1\" width=\"500\">\n",
        "\n",
        "Electrons and holes diffuse across the junction due to concentration gradients (in this case a repulsive force action). The mobile charge carriers accumulate or \"hover\" at the respective edges of the depletion zone.\n",
        "\n",
        "<img src=\"https://drive.google.com/uc?id=1XcZMMdhq4bRM_Pz3JMLMvFn5x0NJg5nq\" width=\"500\">\n",
        "\n",
        "<img src=\"https://drive.google.com/uc?id=1KYaJQQsmg6_UV0Pmlg8ax_AbJmBzI5-Q\" width=\"500\">\n",
        "\n",
        "\n",
        "\n",
        "\n",
        "drift current being equal to diffusion current leads to a stable state\n",
        "\n",
        "The behavior of the mobile charge carries is governed by two primary forces:\n",
        "\n",
        "1) diffusion due to concentration gradients and\n",
        "\n",
        "2) drift caused by the electric field in the depletion region.\n",
        "\n",
        "\n",
        "\n",
        "The Battery Circuit Role:\n",
        "The external battery continuously maintains the depletion region by:\n",
        "- Replenishing any recombination losses at interfaces\n",
        "\n",
        "\n",
        "\n",
        "drift current being equal to diffusion current leads to a stable state\n",
        "\n",
        "The electric field opposing the diffusion current"
      ],
      "metadata": {
        "id": "f3HDWAbyo-g9"
      }
    },
    {
      "cell_type": "code",
      "source": [],
      "metadata": {
        "id": "SFtOrEf0BnTi"
      },
      "execution_count": null,
      "outputs": []
    }
  ]
}