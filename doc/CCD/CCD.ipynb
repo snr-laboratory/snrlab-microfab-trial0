{
  "nbformat": 4,
  "nbformat_minor": 0,
  "metadata": {
    "colab": {
      "provenance": [],
      "authorship_tag": "ABX9TyO8nIhr21BYpbyrt4jMtfym",
      "include_colab_link": true
    },
    "kernelspec": {
      "name": "python3",
      "display_name": "Python 3"
    },
    "language_info": {
      "name": "python"
    }
  },
  "cells": [
    {
      "cell_type": "markdown",
      "metadata": {
        "id": "view-in-github",
        "colab_type": "text"
      },
      "source": [
        "<a href=\"https://colab.research.google.com/github/snr-laboratory/snrlab-microfab-trial0/blob/main/doc/CCD/CCD.ipynb\" target=\"_parent\"><img src=\"https://colab.research.google.com/assets/colab-badge.svg\" alt=\"Open In Colab\"/></a>"
      ]
    },
    {
      "cell_type": "code",
      "execution_count": null,
      "metadata": {
        "id": "93KNSTxoo6kY"
      },
      "outputs": [],
      "source": []
    },
    {
      "cell_type": "markdown",
      "source": [
        "# Charge Coupled Device (CCD)\n",
        "The CCD is part of a class of charge-transfer device structures. The basis of the CCD is the dynamic storage and withdrawal of charge in a\n",
        "series of MOS capacitors.\n",
        "\n",
        "# Dynamic Storgage and Withdrawal of Charge\n",
        "\n",
        "<img src=\"https://drive.google.com/uc?id=1QPW2fp3UqecBrgtisokN1YT0tzB2iPIv\" width=\"300\">\n",
        "\n",
        "Depicted above is an MOS capacitor with a positive gate pulse showing the depletion region and surface charge and the potential well\n",
        "at the interface (partially filled with electrons\n",
        "corresponding to the surface charge).\n",
        "\n",
        "\n",
        "A depletion region exists under the gate, and the surface potential\n",
        "increases considerably under the gate electrode. In effect, the surface potential forms a potential well, which can be exploited for the storage of charge.\n",
        "\n",
        "If a large positive pulse is applied to the\n",
        "MOS gate electrode, a deep potential well is first created. Before inversion\n",
        "has occurred by thermal generation, the depletion width is greater than it\n",
        "would be at equilibrium (W > Wm ; deep depletion). This transient condition is sometimes\n",
        "called deep depletion. If we can inject electrons into this potential well, they will be stored there.\n",
        "\n",
        "## Note: after\n"
      ],
      "metadata": {
        "id": "f3HDWAbyo-g9"
      }
    }
  ]
}