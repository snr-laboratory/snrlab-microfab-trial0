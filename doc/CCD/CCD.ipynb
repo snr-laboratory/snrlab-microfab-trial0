{
  "nbformat": 4,
  "nbformat_minor": 0,
  "metadata": {
    "colab": {
      "provenance": [],
      "authorship_tag": "ABX9TyMgq28lzX3pHkAyhYKmb4rt",
      "include_colab_link": true
    },
    "kernelspec": {
      "name": "python3",
      "display_name": "Python 3"
    },
    "language_info": {
      "name": "python"
    }
  },
  "cells": [
    {
      "cell_type": "markdown",
      "metadata": {
        "id": "view-in-github",
        "colab_type": "text"
      },
      "source": [
        "<a href=\"https://colab.research.google.com/github/snr-laboratory/snrlab-microfab-trial0/blob/main/doc/CCD/CCD.ipynb\" target=\"_parent\"><img src=\"https://colab.research.google.com/assets/colab-badge.svg\" alt=\"Open In Colab\"/></a>"
      ]
    },
    {
      "cell_type": "markdown",
      "source": [
        "# Charge Coupled Device (CCD)\n",
        "The CCD is part of a class of charge-transfer device structures widely used for image sensors. CCD image sensors are made of MOS capacitor arrays which have the functions of light-to-charge (photon-to-electron) conversion, charge integration, charge transfer, and charge-to-voltage conversion. The basis of the CCD is the dynamic storage and withdrawal of charge in a series of MOS capacitors.\n",
        "\n",
        "---\n",
        "# Dynamic Storgage and Withdrawal of Charge\n",
        "\n",
        "<img src=\"https://drive.google.com/uc?id=1QPW2fp3UqecBrgtisokN1YT0tzB2iPIv\" width=\"300\">\n",
        "\n",
        "\n",
        "If a large positive pulse is applied to the\n",
        "MOS gate electrode, a deep potential well is first created. This transient condition is sometimes called deep depletion. If we can inject electrons into this potential well, they will be stored there.\n",
        "\n",
        "---\n",
        "#### **Note: a few msec after charge pairs have been generated, they will recombine if there is no electric field in the semiconductor substrate.**     \n",
        "If there is an electric field in the semiconductor substrate, electrons and holes will be moved in opposite directions by the electrostatic force of the electric field.\n",
        "\n",
        "---\n",
        "\n",
        "The basic types of CCDs are surface channel (SCCD) and buried channel (BCCD). In the SCCD, charge is stored and transferred at the semiconductor surface. A potential loss mechanism identified in the early development of these devices, led to the buried gate channel design. Transfer efficiency can be improved by moving the charge transfer layer below the semiconductor/insulator interface.This shifts the maximum potential under each electrode\n",
        "into the semiconductor bulk, thus avoiding the semiconductor/insulator interface and loss of charge. This type of device is referred to as a BCCD shown below:\n",
        "\n",
        "<img src=\"https://drive.google.com/uc?id=18jcPLBcyNbCLiV414rb0F1dM06Ah8WCF\" width=\"500\">\n",
        "\n",
        "\n",
        "It would be ill advised to assume that the story is this simple. An important aspect of this device operation is understanding why the electrons do not make their way up to the Si/SiO2 surface (assuming absorption and charge generation has already occurred).\n",
        "\n",
        "\n",
        "---\n",
        "\n",
        "Initially, at the metallurgical junction, there is a very large density gradient in both electron and hole concentrations. Majority carrier electrons in the n region will begin diffusing into the p region, and majority carrier holes in the p region will begin diffusing into the n region. If we assume there are no external connections to the semiconductor, then this diffusion process cannot continue indefinitely. As electrons diffuse from the n region, positively charged donor atoms are left behind. Similarly, as holes diffuse from the p region, they uncover negatively charged acceptor atoms.\n",
        "The net positive and negative charges in the n and p regions induce an electric field in the region near the metallurgical junction, in the direction from the positive to the negative charge, or from the n to the p region.\n",
        "\n",
        "The net positively and negatively charged regions are referred to as the space charge region. Essentially all electrons and holes are swept out of the space charge region by the electric field. Since the space\n",
        "charge region is depleted of any mobile charge, this region is also referred to as the depletion region; these two terms will be used interchangeably. Density gradients\n",
        "still exist in the majority carrier concentrations at each edge of the space charge region. We can think of a density gradient as producing a “diffusion force” that acts\n",
        "on the majority carriers. The electric field in the space charge region produces another force on the electrons and holes, which is in the opposite direction to the diffusion force for each type of particle. In thermal equilibrium, the diffusion force and the E-field force exactly balance each other.\n",
        "\n",
        "<img src=\"https://drive.google.com/uc?id=1_RvYN1pZPThGZXgn0ZVQtwnyQpcOg9_5\" width=\"400\">\n",
        "\n",
        "<img src=\"https://drive.google.com/uc?id=1gidzPJt_IqvkcBkIV0_-w5nWkpTfnxdB\" width=\"400\">\n",
        "\n",
        "---\n",
        "Carrier transport of the mobile charge carriers is governed by two primary transport mechanisms:\n",
        "\n",
        "1) diffusion due to concentration gradients and\n",
        "\n",
        "2) drift caused by the electric field in the depletion region.\n",
        "\n",
        "**Drift current being equal to diffusion current leads to a fixed delpetion width (no longer continues to expand)**\n",
        "\n",
        "Electrons and holes diffuse across the junction due to concentration gradients (in this case a repulsive force action). The mobile charge carriers accumulate or \"hover\" at the respective edges of the depletion zone.\n",
        "\n",
        "The device is now ready for operation—capturing the photoelectrons, which are forced upward into the upper n layer, whose positive charge traps them.\n",
        "\n",
        "<img src=\"https://drive.google.com/uc?id=1egIXzt2xgPhgMA5kKL3sNJWjl_tIrY-1\" width=\"500\">\n",
        "\n",
        "The potential well created is dependent on the applied voltage among many other things like doping and oxide thickness.\n",
        "\n",
        "<img src=\"https://drive.google.com/uc?id=1XcZMMdhq4bRM_Pz3JMLMvFn5x0NJg5nq\" width=\"500\">\n",
        "\n",
        "<img src=\"https://drive.google.com/uc?id=1KYaJQQsmg6_UV0Pmlg8ax_AbJmBzI5-Q\" width=\"500\">\n",
        "\n",
        "\n",
        "The Battery Circuit Role:\n",
        "The external battery continuously maintains the depletion region by:\n",
        "- Replenishing any recombination losses at interfaces\n",
        "\n",
        "\n",
        "\n"
      ],
      "metadata": {
        "id": "f3HDWAbyo-g9"
      }
    }
  ]
}